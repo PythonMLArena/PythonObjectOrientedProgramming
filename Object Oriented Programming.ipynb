{
 "cells": [
  {
   "cell_type": "code",
   "execution_count": 1,
   "id": "29c48652",
   "metadata": {},
   "outputs": [],
   "source": [
    "#https://www.youtube.com/watch?v=Ej_02ICOIgs&t=259s\n",
    "\n",
    "\n",
    "item1=\"Phone\"\n",
    "item1_price= 100\n",
    "item1_quantity = 5\n",
    "item1_price_total= item1_price * item1_quantity"
   ]
  },
  {
   "cell_type": "code",
   "execution_count": 3,
   "id": "ad96ba91",
   "metadata": {},
   "outputs": [],
   "source": [
    "#class=Datatype\n",
    "#object=Variable"
   ]
  },
  {
   "cell_type": "code",
   "execution_count": 5,
   "id": "d7dc14ef",
   "metadata": {},
   "outputs": [
    {
     "name": "stdout",
     "output_type": "stream",
     "text": [
      "<class 'str'>\n",
      "<class 'int'>\n",
      "<class 'int'>\n",
      "<class 'int'>\n"
     ]
    }
   ],
   "source": [
    "print(type(item1))# in python each data type is an object which is instaniated earlier by other class\n",
    "print(type(item1_price))\n",
    "print(type(item1_quantity))\n",
    "print(type(item1_price_total))"
   ]
  },
  {
   "cell_type": "code",
   "execution_count": 6,
   "id": "62aa43d1",
   "metadata": {},
   "outputs": [],
   "source": [
    "class Item:\n",
    "     def calculate_total_price(self, x, y):\n",
    "        return x * y"
   ]
  },
  {
   "cell_type": "code",
   "execution_count": 7,
   "id": "d6a2198a",
   "metadata": {},
   "outputs": [],
   "source": [
    "item1=Item()"
   ]
  },
  {
   "cell_type": "code",
   "execution_count": 9,
   "id": "f60fd89d",
   "metadata": {},
   "outputs": [
    {
     "data": {
      "text/plain": [
       "__main__.Item"
      ]
     },
     "execution_count": 9,
     "metadata": {},
     "output_type": "execute_result"
    }
   ],
   "source": [
    "type(item1)"
   ]
  },
  {
   "cell_type": "code",
   "execution_count": 10,
   "id": "0a32752e",
   "metadata": {},
   "outputs": [],
   "source": [
    "\n",
    "item1.name=\"Phone\"\n",
    "item1.price=100\n",
    "item1.quantity=5"
   ]
  },
  {
   "cell_type": "code",
   "execution_count": 11,
   "id": "02ec6caa",
   "metadata": {},
   "outputs": [
    {
     "name": "stdout",
     "output_type": "stream",
     "text": [
      "<class 'str'>\n",
      "<class 'int'>\n",
      "<class 'int'>\n"
     ]
    }
   ],
   "source": [
    "print(type(item1.name))# in python each data type is an object which is instaniated earlier by other class\n",
    "print(type(item1.price))\n",
    "print(type(item1.quantity))\n"
   ]
  },
  {
   "cell_type": "code",
   "execution_count": 20,
   "id": "7122c2a7",
   "metadata": {},
   "outputs": [],
   "source": [
    "class Item:\n",
    "     def calculate_total_price(self, x, y):#passes the object itself as a first argument\n",
    "        return x * y"
   ]
  },
  {
   "cell_type": "code",
   "execution_count": 15,
   "id": "918a8253",
   "metadata": {},
   "outputs": [],
   "source": [
    "item1=Item()\n",
    "item1.name=\"Phone\"\n",
    "item1.price=100\n",
    "item1.quantity=5"
   ]
  },
  {
   "cell_type": "code",
   "execution_count": 22,
   "id": "8974b37a",
   "metadata": {},
   "outputs": [
    {
     "data": {
      "text/plain": [
       "500"
      ]
     },
     "execution_count": 22,
     "metadata": {},
     "output_type": "execute_result"
    }
   ],
   "source": [
    "item1.calculate_total_price(item1.price,item1.quantity)"
   ]
  },
  {
   "cell_type": "code",
   "execution_count": 16,
   "id": "4d74420b",
   "metadata": {},
   "outputs": [],
   "source": [
    "item2=Item()\n",
    "item2.name=\"Laptop\"\n",
    "item2.price=10000\n",
    "item2.quantity=50"
   ]
  },
  {
   "cell_type": "code",
   "execution_count": 23,
   "id": "8fa17c7c",
   "metadata": {},
   "outputs": [
    {
     "data": {
      "text/plain": [
       "500000"
      ]
     },
     "execution_count": 23,
     "metadata": {},
     "output_type": "execute_result"
    }
   ],
   "source": [
    "item2.calculate_total_price(item2.price,item2.quantity)"
   ]
  },
  {
   "cell_type": "code",
   "execution_count": null,
   "id": "c0f7a6c2",
   "metadata": {},
   "outputs": [],
   "source": []
  },
  {
   "cell_type": "code",
   "execution_count": null,
   "id": "28f38120",
   "metadata": {},
   "outputs": [],
   "source": []
  },
  {
   "cell_type": "code",
   "execution_count": null,
   "id": "8e2ff36c",
   "metadata": {},
   "outputs": [],
   "source": []
  },
  {
   "cell_type": "code",
   "execution_count": 19,
   "id": "3ea4a182",
   "metadata": {},
   "outputs": [],
   "source": [
    "#class Item:\n",
    "     #def calculate_total_price():#passes the object itself as a first argument\n",
    "            #pass\n",
    "        #return x * y"
   ]
  },
  {
   "cell_type": "code",
   "execution_count": null,
   "id": "4eed8f33",
   "metadata": {},
   "outputs": [],
   "source": []
  },
  {
   "cell_type": "code",
   "execution_count": null,
   "id": "d61b8e13",
   "metadata": {},
   "outputs": [],
   "source": [
    "class AreaofTriangle:\n",
    "    pass"
   ]
  },
  {
   "cell_type": "code",
   "execution_count": null,
   "id": "273ee2f4",
   "metadata": {},
   "outputs": [],
   "source": []
  },
  {
   "cell_type": "markdown",
   "id": "3a46ce87",
   "metadata": {},
   "source": [
    "### 1st Lecture"
   ]
  },
  {
   "cell_type": "code",
   "execution_count": 13,
   "id": "2ffa2344",
   "metadata": {},
   "outputs": [],
   "source": [
    "class student:\n",
    "    pass"
   ]
  },
  {
   "cell_type": "code",
   "execution_count": 14,
   "id": "b951f073",
   "metadata": {},
   "outputs": [],
   "source": [
    "l=student()\n"
   ]
  },
  {
   "cell_type": "code",
   "execution_count": 15,
   "id": "e1b83f1e",
   "metadata": {},
   "outputs": [
    {
     "data": {
      "text/plain": [
       "__main__.student"
      ]
     },
     "execution_count": 15,
     "metadata": {},
     "output_type": "execute_result"
    }
   ],
   "source": [
    "type(l)"
   ]
  },
  {
   "cell_type": "code",
   "execution_count": 17,
   "id": "4da6804f",
   "metadata": {},
   "outputs": [],
   "source": [
    "l.name=\"Prathamesh\""
   ]
  },
  {
   "cell_type": "code",
   "execution_count": 18,
   "id": "df97418b",
   "metadata": {},
   "outputs": [],
   "source": [
    "l2=student()\n",
    "l3=student()"
   ]
  },
  {
   "cell_type": "code",
   "execution_count": 19,
   "id": "1ec5d7ef",
   "metadata": {},
   "outputs": [],
   "source": [
    "l2.rollnumber=89"
   ]
  },
  {
   "cell_type": "code",
   "execution_count": 20,
   "id": "8be0d7ca",
   "metadata": {},
   "outputs": [],
   "source": [
    "l3.name=\"Lokesh\"\n",
    "l3.rollnumber=90"
   ]
  },
  {
   "cell_type": "code",
   "execution_count": 21,
   "id": "5caf64ed",
   "metadata": {},
   "outputs": [
    {
     "data": {
      "text/plain": [
       "'Prathamesh'"
      ]
     },
     "execution_count": 21,
     "metadata": {},
     "output_type": "execute_result"
    }
   ],
   "source": [
    "l.name"
   ]
  },
  {
   "cell_type": "code",
   "execution_count": 22,
   "id": "29768cd3",
   "metadata": {},
   "outputs": [
    {
     "ename": "AttributeError",
     "evalue": "'student' object has no attribute 'name'",
     "output_type": "error",
     "traceback": [
      "\u001b[1;31m---------------------------------------------------------------------------\u001b[0m",
      "\u001b[1;31mAttributeError\u001b[0m                            Traceback (most recent call last)",
      "Input \u001b[1;32mIn [22]\u001b[0m, in \u001b[0;36m<cell line: 1>\u001b[1;34m()\u001b[0m\n\u001b[1;32m----> 1\u001b[0m \u001b[43ml2\u001b[49m\u001b[38;5;241;43m.\u001b[39;49m\u001b[43mname\u001b[49m\n",
      "\u001b[1;31mAttributeError\u001b[0m: 'student' object has no attribute 'name'"
     ]
    }
   ],
   "source": [
    "l2.name"
   ]
  },
  {
   "cell_type": "code",
   "execution_count": 23,
   "id": "61b359b7",
   "metadata": {},
   "outputs": [
    {
     "data": {
      "text/plain": [
       "{'rollnumber': 89}"
      ]
     },
     "execution_count": 23,
     "metadata": {},
     "output_type": "execute_result"
    }
   ],
   "source": [
    "l2.__dict__"
   ]
  },
  {
   "cell_type": "code",
   "execution_count": 25,
   "id": "a14cb40b",
   "metadata": {},
   "outputs": [
    {
     "data": {
      "text/plain": [
       "{'name': 'Prathamesh'}"
      ]
     },
     "execution_count": 25,
     "metadata": {},
     "output_type": "execute_result"
    }
   ],
   "source": [
    "l.__dict__"
   ]
  },
  {
   "cell_type": "code",
   "execution_count": 26,
   "id": "8173080c",
   "metadata": {},
   "outputs": [
    {
     "data": {
      "text/plain": [
       "{'name': 'Lokesh', 'rollnumber': 90}"
      ]
     },
     "execution_count": 26,
     "metadata": {},
     "output_type": "execute_result"
    }
   ],
   "source": [
    "l3.__dict__"
   ]
  },
  {
   "cell_type": "code",
   "execution_count": 27,
   "id": "ac5b025b",
   "metadata": {},
   "outputs": [
    {
     "data": {
      "text/plain": [
       "True"
      ]
     },
     "execution_count": 27,
     "metadata": {},
     "output_type": "execute_result"
    }
   ],
   "source": [
    "hasattr(l3,\"rollnumber\")"
   ]
  },
  {
   "cell_type": "code",
   "execution_count": 30,
   "id": "4b705e85",
   "metadata": {},
   "outputs": [
    {
     "data": {
      "text/plain": [
       "False"
      ]
     },
     "execution_count": 30,
     "metadata": {},
     "output_type": "execute_result"
    }
   ],
   "source": [
    "hasattr(l,\"rollnumber\")"
   ]
  },
  {
   "cell_type": "code",
   "execution_count": 32,
   "id": "21f3f33d",
   "metadata": {},
   "outputs": [
    {
     "ename": "AttributeError",
     "evalue": "'student' object has no attribute 'rollnumber'",
     "output_type": "error",
     "traceback": [
      "\u001b[1;31m---------------------------------------------------------------------------\u001b[0m",
      "\u001b[1;31mAttributeError\u001b[0m                            Traceback (most recent call last)",
      "Input \u001b[1;32mIn [32]\u001b[0m, in \u001b[0;36m<cell line: 1>\u001b[1;34m()\u001b[0m\n\u001b[1;32m----> 1\u001b[0m \u001b[38;5;28;43mgetattr\u001b[39;49m\u001b[43m(\u001b[49m\u001b[43ml\u001b[49m\u001b[43m,\u001b[49m\u001b[38;5;124;43m\"\u001b[39;49m\u001b[38;5;124;43mrollnumber\u001b[39;49m\u001b[38;5;124;43m\"\u001b[39;49m\u001b[43m)\u001b[49m\n",
      "\u001b[1;31mAttributeError\u001b[0m: 'student' object has no attribute 'rollnumber'"
     ]
    }
   ],
   "source": [
    "getattr(l,\"rollnumber\")"
   ]
  },
  {
   "cell_type": "code",
   "execution_count": 36,
   "id": "5425ed18",
   "metadata": {},
   "outputs": [
    {
     "data": {
      "text/plain": [
       "''"
      ]
     },
     "execution_count": 36,
     "metadata": {},
     "output_type": "execute_result"
    }
   ],
   "source": [
    "getattr(l,\"rollnumber\",\"\")# dont have rollnumber # dont give error but give default value \" \""
   ]
  },
  {
   "cell_type": "code",
   "execution_count": 38,
   "id": "f0609f43",
   "metadata": {},
   "outputs": [],
   "source": [
    "delattr(l,\"name\")#deleted name from l "
   ]
  },
  {
   "cell_type": "code",
   "execution_count": 40,
   "id": "e12071eb",
   "metadata": {},
   "outputs": [
    {
     "data": {
      "text/plain": [
       "{}"
      ]
     },
     "execution_count": 40,
     "metadata": {},
     "output_type": "execute_result"
    }
   ],
   "source": [
    "l.__dict__#checking attributes"
   ]
  },
  {
   "cell_type": "markdown",
   "id": "a0f62a50",
   "metadata": {},
   "source": [
    "### Self Parameter"
   ]
  },
  {
   "cell_type": "code",
   "execution_count": 84,
   "id": "b1814daa",
   "metadata": {},
   "outputs": [],
   "source": [
    "class studentforall:\n",
    "    passpercentage=40 #class attribute\n",
    "    def studendetails(self):\n",
    "        self.name=\"Prathamesh\"#instance Attribute value there till object is there\n",
    "        print(self.name)\n",
    "        percentage=80# value persist till function is running function end value gone\n",
    "        self.percentage1=80\n",
    "    def ispassed(self):\n",
    "        if self.percentage1>studentforall.passpercentage:\n",
    "            print(\"student is passed\") \n",
    "        else:\n",
    "            print(\"student is not passed\")\n",
    "    @staticmethod # stop binding self static method is Decorator ( function take parameter is a Function)\n",
    "    def welcome():\n",
    "        print(\"welcome to India\")"
   ]
  },
  {
   "cell_type": "code",
   "execution_count": 85,
   "id": "97504d51",
   "metadata": {},
   "outputs": [],
   "source": [
    "p=studentforall()"
   ]
  },
  {
   "cell_type": "code",
   "execution_count": 86,
   "id": "350905cb",
   "metadata": {},
   "outputs": [
    {
     "name": "stdout",
     "output_type": "stream",
     "text": [
      "Prathamesh\n"
     ]
    }
   ],
   "source": [
    "p.studendetails()"
   ]
  },
  {
   "cell_type": "code",
   "execution_count": 87,
   "id": "4e83786b",
   "metadata": {},
   "outputs": [
    {
     "name": "stdout",
     "output_type": "stream",
     "text": [
      "student is passed\n"
     ]
    }
   ],
   "source": [
    "p.ispassed()"
   ]
  },
  {
   "cell_type": "code",
   "execution_count": 88,
   "id": "411f4dd1",
   "metadata": {},
   "outputs": [
    {
     "name": "stdout",
     "output_type": "stream",
     "text": [
      "welcome to India\n"
     ]
    }
   ],
   "source": [
    "p.welcome()"
   ]
  },
  {
   "cell_type": "markdown",
   "id": "e679e578",
   "metadata": {},
   "source": [
    "### Class Methods"
   ]
  },
  {
   "cell_type": "code",
   "execution_count": 5,
   "id": "4eff76b3",
   "metadata": {},
   "outputs": [],
   "source": [
    "from datetime import datetime\n"
   ]
  },
  {
   "cell_type": "code",
   "execution_count": 1,
   "id": "f0112f53",
   "metadata": {},
   "outputs": [],
   "source": [
    "class student_all:\n",
    "    passpercentage=40 #class attribute\n",
    "    def __init__(self,name,age=15,percentage=80):\n",
    "        self.name=name\n",
    "        self.age=age\n",
    "        self.percentage=percentage\n",
    "    @classmethod\n",
    "    def from_birthyear(cls,name,year,percentage):\n",
    "        return cls(name,datetime.today().year-year,percentage)\n",
    "    \n",
    "    def studendetails(self):\n",
    "        print(self.name)\n",
    "        print(self.age)\n",
    "        print(self.percentage)\n",
    "    def ispassed(self):\n",
    "        if self.percentage>student_all.passpercentage:\n",
    "            print(\"student is passed\") \n",
    "        else:\n",
    "            print(\"student is not passed\")\n",
    "    @staticmethod # stop binding self static method is Decorator ( function take parameter is a Function)\n",
    "    def welcome():\n",
    "        print(\"welcome to India\")\n",
    "    @staticmethod\n",
    "    def isTeen(age):\n",
    "        return age>16"
   ]
  },
  {
   "cell_type": "code",
   "execution_count": null,
   "id": "8fdce963",
   "metadata": {},
   "outputs": [],
   "source": []
  },
  {
   "cell_type": "code",
   "execution_count": 3,
   "id": "af75e382",
   "metadata": {},
   "outputs": [],
   "source": [
    "f=student_all(\"Langer\")"
   ]
  },
  {
   "cell_type": "code",
   "execution_count": 130,
   "id": "c5bbd04f",
   "metadata": {},
   "outputs": [
    {
     "name": "stdout",
     "output_type": "stream",
     "text": [
      "welcome to India\n"
     ]
    }
   ],
   "source": [
    "f.welcome()"
   ]
  },
  {
   "cell_type": "code",
   "execution_count": 132,
   "id": "3a7174bb",
   "metadata": {},
   "outputs": [
    {
     "data": {
      "text/plain": [
       "False"
      ]
     },
     "execution_count": 132,
     "metadata": {},
     "output_type": "execute_result"
    }
   ],
   "source": [
    "f.isTeen(14)"
   ]
  },
  {
   "cell_type": "code",
   "execution_count": 133,
   "id": "868c7fe1",
   "metadata": {},
   "outputs": [
    {
     "name": "stdout",
     "output_type": "stream",
     "text": [
      "Langer\n",
      "22\n",
      "33\n"
     ]
    }
   ],
   "source": [
    "f.studendetails()"
   ]
  },
  {
   "cell_type": "code",
   "execution_count": 134,
   "id": "848e2cb2",
   "metadata": {},
   "outputs": [
    {
     "name": "stdout",
     "output_type": "stream",
     "text": [
      "student is not passed\n"
     ]
    }
   ],
   "source": [
    "f.ispassed()"
   ]
  },
  {
   "cell_type": "code",
   "execution_count": 8,
   "id": "4771a7ac",
   "metadata": {},
   "outputs": [],
   "source": [
    "k=student_all.from_birthyear(\"Langer\",1990,90)"
   ]
  },
  {
   "cell_type": "code",
   "execution_count": 9,
   "id": "0a42f8a9",
   "metadata": {},
   "outputs": [
    {
     "name": "stdout",
     "output_type": "stream",
     "text": [
      "Langer\n",
      "32\n",
      "90\n"
     ]
    }
   ],
   "source": [
    "k.studendetails()"
   ]
  },
  {
   "cell_type": "markdown",
   "id": "24b22f56",
   "metadata": {},
   "source": [
    "## Public and Private"
   ]
  },
  {
   "cell_type": "code",
   "execution_count": 16,
   "id": "dd7cbd00",
   "metadata": {},
   "outputs": [
    {
     "name": "stdout",
     "output_type": "stream",
     "text": [
      "Kailas\n",
      "Pramod\n"
     ]
    }
   ],
   "source": [
    "s=student_all(\"Kailas\")#public we can access then outside the class\n",
    "print(s.name)\n",
    "s.name=\"Pramod\"\n",
    "print(s.name)"
   ]
  },
  {
   "cell_type": "code",
   "execution_count": 17,
   "id": "67130e98",
   "metadata": {},
   "outputs": [
    {
     "name": "stdout",
     "output_type": "stream",
     "text": [
      "15\n",
      "90\n"
     ]
    }
   ],
   "source": [
    "s=student_all(\"Kailas\")\n",
    "print(s.age)\n",
    "s.age=90\n",
    "print(s.age)"
   ]
  },
  {
   "cell_type": "code",
   "execution_count": 23,
   "id": "74be411c",
   "metadata": {},
   "outputs": [],
   "source": [
    "class student_pubpri:\n",
    "    passpercentage=40 #class attribute\n",
    "    def __init__(self,name,age=15,percentage=80):\n",
    "        self.__name=name\n",
    "        self.age=age\n",
    "        self.percentage=percentage\n",
    "    def studendetails(self):\n",
    "        print(self.__name)\n",
    "        print(self.age)\n",
    "        print(self.percentage)\n"
   ]
  },
  {
   "cell_type": "code",
   "execution_count": 24,
   "id": "877d293d",
   "metadata": {},
   "outputs": [],
   "source": [
    "s=student_pubpri(\"Lahmann\")"
   ]
  },
  {
   "cell_type": "code",
   "execution_count": 28,
   "id": "7fd91384",
   "metadata": {},
   "outputs": [
    {
     "data": {
      "text/plain": [
       "'Lahmann'"
      ]
     },
     "execution_count": 28,
     "metadata": {},
     "output_type": "execute_result"
    }
   ],
   "source": [
    "s._student_pubpri__name# Name Manglisng"
   ]
  },
  {
   "cell_type": "code",
   "execution_count": null,
   "id": "b324c1ff",
   "metadata": {},
   "outputs": [],
   "source": []
  },
  {
   "cell_type": "code",
   "execution_count": null,
   "id": "7f43b89e",
   "metadata": {},
   "outputs": [],
   "source": []
  },
  {
   "cell_type": "code",
   "execution_count": null,
   "id": "04fb797d",
   "metadata": {},
   "outputs": [],
   "source": []
  },
  {
   "cell_type": "code",
   "execution_count": null,
   "id": "0c333344",
   "metadata": {},
   "outputs": [],
   "source": []
  },
  {
   "cell_type": "code",
   "execution_count": null,
   "id": "7b8a7220",
   "metadata": {},
   "outputs": [],
   "source": []
  },
  {
   "cell_type": "code",
   "execution_count": null,
   "id": "919d5bcf",
   "metadata": {},
   "outputs": [],
   "source": []
  },
  {
   "cell_type": "code",
   "execution_count": null,
   "id": "ec92e7c1",
   "metadata": {},
   "outputs": [],
   "source": []
  },
  {
   "cell_type": "markdown",
   "id": "5807d237",
   "metadata": {},
   "source": [
    "## Init Method"
   ]
  },
  {
   "cell_type": "code",
   "execution_count": 89,
   "id": "3bee613f",
   "metadata": {},
   "outputs": [],
   "source": [
    "class student:\n",
    "    def __init__(self):\n",
    "        self.name=str(input())\n",
    "        self.Rollnumber=int(input())"
   ]
  },
  {
   "cell_type": "code",
   "execution_count": 90,
   "id": "90419c8d",
   "metadata": {},
   "outputs": [
    {
     "name": "stdout",
     "output_type": "stream",
     "text": [
      "Keshav\n",
      "67\n"
     ]
    }
   ],
   "source": [
    "d=student()"
   ]
  },
  {
   "cell_type": "code",
   "execution_count": 91,
   "id": "7657a9e0",
   "metadata": {},
   "outputs": [
    {
     "data": {
      "text/plain": [
       "'Keshav'"
      ]
     },
     "execution_count": 91,
     "metadata": {},
     "output_type": "execute_result"
    }
   ],
   "source": [
    "d.name"
   ]
  },
  {
   "cell_type": "code",
   "execution_count": 92,
   "id": "03daede9",
   "metadata": {},
   "outputs": [
    {
     "data": {
      "text/plain": [
       "67"
      ]
     },
     "execution_count": 92,
     "metadata": {},
     "output_type": "execute_result"
    }
   ],
   "source": [
    "d.Rollnumber"
   ]
  },
  {
   "cell_type": "code",
   "execution_count": 93,
   "id": "16725f28",
   "metadata": {},
   "outputs": [
    {
     "data": {
      "text/plain": [
       "{'name': 'Keshav', 'Rollnumber': 67}"
      ]
     },
     "execution_count": 93,
     "metadata": {},
     "output_type": "execute_result"
    }
   ],
   "source": [
    "d.__dict__"
   ]
  },
  {
   "cell_type": "code",
   "execution_count": 94,
   "id": "bec8600a",
   "metadata": {},
   "outputs": [
    {
     "name": "stdout",
     "output_type": "stream",
     "text": [
      "Prathamesh\n",
      "56\n"
     ]
    }
   ],
   "source": [
    "d2=student()"
   ]
  },
  {
   "cell_type": "code",
   "execution_count": 95,
   "id": "2c2bdbf0",
   "metadata": {},
   "outputs": [
    {
     "data": {
      "text/plain": [
       "{'name': 'Prathamesh', 'Rollnumber': 56}"
      ]
     },
     "execution_count": 95,
     "metadata": {},
     "output_type": "execute_result"
    }
   ],
   "source": [
    "d2.__dict__"
   ]
  },
  {
   "cell_type": "code",
   "execution_count": 98,
   "id": "54a6dfca",
   "metadata": {},
   "outputs": [],
   "source": [
    "class Finalstudent:\n",
    "    def __init__(self,name,Rollnumber):\n",
    "        self.name=name\n",
    "        self.Rollnumber=Rollnumber"
   ]
  },
  {
   "cell_type": "code",
   "execution_count": 101,
   "id": "8750a9b1",
   "metadata": {},
   "outputs": [],
   "source": [
    "k=Finalstudent(\"Pratham\",90)"
   ]
  },
  {
   "cell_type": "code",
   "execution_count": 102,
   "id": "e7a2bc92",
   "metadata": {},
   "outputs": [
    {
     "data": {
      "text/plain": [
       "{'name': 'Pratham', 'Rollnumber': 90}"
      ]
     },
     "execution_count": 102,
     "metadata": {},
     "output_type": "execute_result"
    }
   ],
   "source": [
    "k.__dict__"
   ]
  },
  {
   "cell_type": "code",
   "execution_count": null,
   "id": "fcbfb02f",
   "metadata": {},
   "outputs": [],
   "source": []
  },
  {
   "cell_type": "markdown",
   "id": "5134e575",
   "metadata": {},
   "source": [
    "### Instance Methods"
   ]
  },
  {
   "cell_type": "code",
   "execution_count": 33,
   "id": "8682a248",
   "metadata": {},
   "outputs": [],
   "source": [
    "class student:\n",
    "    def __init__(self,name,rollnumber):\n",
    "        self.name=name\n",
    "        self.rollnumber=rollnumber\n",
    "    def printstudent(self):\n",
    "        print(\"hey I m \",self.name,\" My Rollnumber is \",self.rollnumber)"
   ]
  },
  {
   "cell_type": "code",
   "execution_count": 34,
   "id": "8057c5bc",
   "metadata": {},
   "outputs": [],
   "source": [
    "s=student(\"Kshitij\",90)"
   ]
  },
  {
   "cell_type": "code",
   "execution_count": 35,
   "id": "63808160",
   "metadata": {},
   "outputs": [
    {
     "name": "stdout",
     "output_type": "stream",
     "text": [
      "hey I m  Kshitij  My Rollnumber is  90\n"
     ]
    }
   ],
   "source": [
    "s.printstudent()"
   ]
  },
  {
   "cell_type": "code",
   "execution_count": 37,
   "id": "294e3999",
   "metadata": {},
   "outputs": [
    {
     "name": "stdout",
     "output_type": "stream",
     "text": [
      "hey I m  Kshitij  My Rollnumber is  90\n"
     ]
    }
   ],
   "source": [
    "student.printstudent(s)"
   ]
  },
  {
   "cell_type": "code",
   "execution_count": null,
   "id": "4230fdf7",
   "metadata": {},
   "outputs": [],
   "source": []
  },
  {
   "cell_type": "markdown",
   "id": "26c9defa",
   "metadata": {},
   "source": [
    "### Fraction Class Example"
   ]
  },
  {
   "cell_type": "code",
   "execution_count": 127,
   "id": "cdd0561c",
   "metadata": {},
   "outputs": [],
   "source": [
    "class Fraction:\n",
    "    \n",
    "    def __init__(self,num=0,den=1):\n",
    "        if den==0:\n",
    "            den=1\n",
    "        self.num=num\n",
    "        self.den=den\n",
    "    def print1(self):\n",
    "        if self.num==0:\n",
    "            print(self.num)\n",
    "        elif self.den==1:\n",
    "            print(self.num)\n",
    "        else:\n",
    "            print(self.num,\"/\",self.den)\n",
    "    def simplify(self):\n",
    "        if self.num==0:\n",
    "            self.den=1\n",
    "            return \n",
    "        current=min(self.num,self.den)\n",
    "        while current>1: ###GCD code\n",
    "            if self.num % current ==0 and self.den % current ==0:\n",
    "                break\n",
    "            current= current -1\n",
    "            \n",
    "        self.num=self.num//current\n",
    "        self.den=self.den//current\n",
    "        \n",
    "    def add(self,otherfrac):\n",
    "        newnum=otherfrac.den*self.num+otherfrac.num*self.den\n",
    "        newden=otherfrac.den*self.den\n",
    "        self.num=newnum\n",
    "        self.den=newden\n",
    "        self.simplify()\n",
    "    def multiply(self,otherfrac):\n",
    "        newnum=otherfrac.num*self.num\n",
    "        newden=otherfrac.den*self.den\n",
    "        self.num=newnum\n",
    "        self.den=newden\n",
    "        self.simplify()"
   ]
  },
  {
   "cell_type": "code",
   "execution_count": 98,
   "id": "e5af1986",
   "metadata": {},
   "outputs": [],
   "source": [
    "f=Fraction(2,3)"
   ]
  },
  {
   "cell_type": "code",
   "execution_count": 99,
   "id": "680c4d85",
   "metadata": {},
   "outputs": [
    {
     "data": {
      "text/plain": [
       "{'num': 2, 'den': 3}"
      ]
     },
     "execution_count": 99,
     "metadata": {},
     "output_type": "execute_result"
    }
   ],
   "source": [
    "f.__dict__"
   ]
  },
  {
   "cell_type": "code",
   "execution_count": 100,
   "id": "1355210c",
   "metadata": {},
   "outputs": [],
   "source": [
    "f1=Fraction()"
   ]
  },
  {
   "cell_type": "code",
   "execution_count": 101,
   "id": "6800f1e0",
   "metadata": {},
   "outputs": [
    {
     "data": {
      "text/plain": [
       "{'num': 0, 'den': 1}"
      ]
     },
     "execution_count": 101,
     "metadata": {},
     "output_type": "execute_result"
    }
   ],
   "source": [
    "f1.__dict__"
   ]
  },
  {
   "cell_type": "code",
   "execution_count": 102,
   "id": "fb47bcf7",
   "metadata": {},
   "outputs": [],
   "source": [
    "f2=Fraction(3)"
   ]
  },
  {
   "cell_type": "code",
   "execution_count": 103,
   "id": "5e7aa569",
   "metadata": {},
   "outputs": [
    {
     "data": {
      "text/plain": [
       "{'num': 3, 'den': 1}"
      ]
     },
     "execution_count": 103,
     "metadata": {},
     "output_type": "execute_result"
    }
   ],
   "source": [
    "f2.__dict__"
   ]
  },
  {
   "cell_type": "code",
   "execution_count": 104,
   "id": "31ef2be5",
   "metadata": {},
   "outputs": [
    {
     "name": "stdout",
     "output_type": "stream",
     "text": [
      "2 / 3\n"
     ]
    }
   ],
   "source": [
    "f.print1()"
   ]
  },
  {
   "cell_type": "code",
   "execution_count": 105,
   "id": "6616370a",
   "metadata": {},
   "outputs": [
    {
     "name": "stdout",
     "output_type": "stream",
     "text": [
      "0\n"
     ]
    }
   ],
   "source": [
    "f1.print1()"
   ]
  },
  {
   "cell_type": "code",
   "execution_count": 106,
   "id": "5d7b1b95",
   "metadata": {},
   "outputs": [],
   "source": [
    "f2=Fraction(4,0)"
   ]
  },
  {
   "cell_type": "code",
   "execution_count": 107,
   "id": "1a934c89",
   "metadata": {},
   "outputs": [
    {
     "name": "stdout",
     "output_type": "stream",
     "text": [
      "4\n"
     ]
    }
   ],
   "source": [
    "f2.print1()"
   ]
  },
  {
   "cell_type": "code",
   "execution_count": 108,
   "id": "caf5a60d",
   "metadata": {},
   "outputs": [],
   "source": [
    "f2.simplify()"
   ]
  },
  {
   "cell_type": "code",
   "execution_count": 109,
   "id": "d6d37f0a",
   "metadata": {},
   "outputs": [
    {
     "name": "stdout",
     "output_type": "stream",
     "text": [
      "4\n"
     ]
    }
   ],
   "source": [
    "f2.print1()"
   ]
  },
  {
   "cell_type": "code",
   "execution_count": 110,
   "id": "438f03a0",
   "metadata": {},
   "outputs": [],
   "source": [
    "f.simplify()"
   ]
  },
  {
   "cell_type": "code",
   "execution_count": 111,
   "id": "e28f4a91",
   "metadata": {},
   "outputs": [
    {
     "name": "stdout",
     "output_type": "stream",
     "text": [
      "2 / 3\n"
     ]
    }
   ],
   "source": [
    "f.print1()"
   ]
  },
  {
   "cell_type": "code",
   "execution_count": 112,
   "id": "0d665a61",
   "metadata": {},
   "outputs": [],
   "source": [
    "f4=Fraction(0,12)"
   ]
  },
  {
   "cell_type": "code",
   "execution_count": 113,
   "id": "879475a2",
   "metadata": {},
   "outputs": [
    {
     "name": "stdout",
     "output_type": "stream",
     "text": [
      "0\n"
     ]
    }
   ],
   "source": [
    "f4.print1()"
   ]
  },
  {
   "cell_type": "code",
   "execution_count": 114,
   "id": "cbc5873e",
   "metadata": {},
   "outputs": [],
   "source": [
    "f4.simplify()"
   ]
  },
  {
   "cell_type": "code",
   "execution_count": 115,
   "id": "f2838317",
   "metadata": {},
   "outputs": [
    {
     "name": "stdout",
     "output_type": "stream",
     "text": [
      "0\n"
     ]
    }
   ],
   "source": [
    "f4.print1()"
   ]
  },
  {
   "cell_type": "code",
   "execution_count": 128,
   "id": "a92b40ed",
   "metadata": {},
   "outputs": [],
   "source": [
    "k=Fraction(5,6)\n",
    "k1=Fraction(7,8)"
   ]
  },
  {
   "cell_type": "code",
   "execution_count": 129,
   "id": "c7779bb4",
   "metadata": {},
   "outputs": [],
   "source": [
    "k.add(k1)"
   ]
  },
  {
   "cell_type": "code",
   "execution_count": 130,
   "id": "b2aac683",
   "metadata": {},
   "outputs": [
    {
     "name": "stdout",
     "output_type": "stream",
     "text": [
      "41 / 24\n"
     ]
    }
   ],
   "source": [
    "k.print1()"
   ]
  },
  {
   "cell_type": "code",
   "execution_count": 131,
   "id": "b5f06ccb",
   "metadata": {},
   "outputs": [],
   "source": [
    "k.multiply(k1)"
   ]
  },
  {
   "cell_type": "code",
   "execution_count": 132,
   "id": "9cf96036",
   "metadata": {},
   "outputs": [
    {
     "name": "stdout",
     "output_type": "stream",
     "text": [
      "287 / 192\n"
     ]
    }
   ],
   "source": [
    "k.print1()"
   ]
  },
  {
   "cell_type": "markdown",
   "id": "3168ef3e",
   "metadata": {},
   "source": [
    "### Abstraction"
   ]
  },
  {
   "cell_type": "code",
   "execution_count": 13,
   "id": "cee8fa6b",
   "metadata": {},
   "outputs": [],
   "source": [
    "from abc import ABC,abstractmethod\n",
    "class Automobile(ABC):\n",
    "    def __init__(self,no_of_wheels):\n",
    "        self.no_of_wheels=no_of_wheels\n",
    "        print(\"Automobile Created\")\n",
    "    @abstractmethod\n",
    "    def start(self):\n",
    "        print(\"start in Automobile\")\n",
    "    @abstractmethod\n",
    "    def stop(self):\n",
    "        pass\n",
    "    @abstractmethod\n",
    "    def drive(self):\n",
    "        pass\n",
    "    @abstractmethod\n",
    "    def get_no_of_wheels(self):\n",
    "        return self.no_of_wheels\n",
    "    \n",
    "# u cannot create object of abstract class"
   ]
  },
  {
   "cell_type": "code",
   "execution_count": 14,
   "id": "a5f7e522",
   "metadata": {},
   "outputs": [],
   "source": [
    "class car(Automobile):\n",
    "    def __init__(self):\n",
    "        print(\"Car Created\")\n"
   ]
  },
  {
   "cell_type": "code",
   "execution_count": 15,
   "id": "3410061a",
   "metadata": {},
   "outputs": [
    {
     "ename": "TypeError",
     "evalue": "Can't instantiate abstract class car with abstract methods drive, get_no_of_wheels, start, stop",
     "output_type": "error",
     "traceback": [
      "\u001b[1;31m---------------------------------------------------------------------------\u001b[0m",
      "\u001b[1;31mTypeError\u001b[0m                                 Traceback (most recent call last)",
      "Input \u001b[1;32mIn [15]\u001b[0m, in \u001b[0;36m<cell line: 1>\u001b[1;34m()\u001b[0m\n\u001b[1;32m----> 1\u001b[0m k\u001b[38;5;241m=\u001b[39m\u001b[43mcar\u001b[49m\u001b[43m(\u001b[49m\u001b[43m)\u001b[49m\n",
      "\u001b[1;31mTypeError\u001b[0m: Can't instantiate abstract class car with abstract methods drive, get_no_of_wheels, start, stop"
     ]
    }
   ],
   "source": [
    "k=car()# cant initiated compulsion of abstract methods"
   ]
  },
  {
   "cell_type": "code",
   "execution_count": 16,
   "id": "d2cc28e0",
   "metadata": {},
   "outputs": [],
   "source": [
    "class car(Automobile):\n",
    "    def start(self):\n",
    "        super().start()\n",
    "        print(\"start in Car\")\n",
    "    def stop(self):\n",
    "        pass\n",
    "    def drive(self):\n",
    "        pass\n",
    "    def get_no_of_wheels(self):\n",
    "        return super().get_no_of_wheels()"
   ]
  },
  {
   "cell_type": "code",
   "execution_count": 17,
   "id": "7ade7e56",
   "metadata": {},
   "outputs": [
    {
     "name": "stdout",
     "output_type": "stream",
     "text": [
      "Automobile Created\n"
     ]
    }
   ],
   "source": [
    "k=car(4)#its working after added abstract methods"
   ]
  },
  {
   "cell_type": "code",
   "execution_count": 18,
   "id": "e6081592",
   "metadata": {},
   "outputs": [
    {
     "data": {
      "text/plain": [
       "4"
      ]
     },
     "execution_count": 18,
     "metadata": {},
     "output_type": "execute_result"
    }
   ],
   "source": [
    "k.get_no_of_wheels()"
   ]
  },
  {
   "cell_type": "code",
   "execution_count": null,
   "id": "8275dcc1",
   "metadata": {},
   "outputs": [],
   "source": []
  }
 ],
 "metadata": {
  "kernelspec": {
   "display_name": "Python 3 (ipykernel)",
   "language": "python",
   "name": "python3"
  },
  "language_info": {
   "codemirror_mode": {
    "name": "ipython",
    "version": 3
   },
   "file_extension": ".py",
   "mimetype": "text/x-python",
   "name": "python",
   "nbconvert_exporter": "python",
   "pygments_lexer": "ipython3",
   "version": "3.8.12"
  }
 },
 "nbformat": 4,
 "nbformat_minor": 5
}
