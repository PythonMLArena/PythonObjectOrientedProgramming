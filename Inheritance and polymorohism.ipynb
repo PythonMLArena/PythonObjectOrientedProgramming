{
 "cells": [
  {
   "cell_type": "markdown",
   "id": "74fe0168",
   "metadata": {},
   "source": [
    "### Inheritance"
   ]
  },
  {
   "cell_type": "code",
   "execution_count": 1,
   "id": "2c228e3e",
   "metadata": {},
   "outputs": [],
   "source": [
    "class vehicle:\n",
    "    def __init__(self,color,maxspeed):\n",
    "        self.color=color\n",
    "        self.maxspeed=maxspeed"
   ]
  },
  {
   "cell_type": "code",
   "execution_count": 2,
   "id": "ec908b5c",
   "metadata": {},
   "outputs": [],
   "source": [
    "class car(vehicle):\n",
    "    def __init__(self,color,maxspeed,nogear,isconv):\n",
    "        super().__init__(color,maxspeed) #super used to access the init from base class\n",
    "        self.nogear=nogear\n",
    "        self.isconv=isconv\n",
    "    def printcar(self):\n",
    "        print(\"colour is\",self.color )\n",
    "        print(\"maxspeed is\",self.maxspeed )\n",
    "        print(\"nogear is\",self.nogear )\n",
    "        print(\"isconv is\",self.isconv )\n",
    "        "
   ]
  },
  {
   "cell_type": "code",
   "execution_count": 3,
   "id": "dc425c6f",
   "metadata": {},
   "outputs": [],
   "source": [
    "c=car(\"red\",15,3,False)"
   ]
  },
  {
   "cell_type": "code",
   "execution_count": 4,
   "id": "ea58c5cb",
   "metadata": {},
   "outputs": [
    {
     "name": "stdout",
     "output_type": "stream",
     "text": [
      "colour is red\n",
      "maxspeed is 15\n",
      "nogear is 3\n",
      "isconv is False\n"
     ]
    }
   ],
   "source": [
    "c.printcar()"
   ]
  },
  {
   "cell_type": "markdown",
   "id": "8e842f69",
   "metadata": {},
   "source": [
    "### Inheritance with Private Members"
   ]
  },
  {
   "cell_type": "code",
   "execution_count": 9,
   "id": "de0389ae",
   "metadata": {},
   "outputs": [],
   "source": [
    "class vehicle:\n",
    "    def __init__(self,color,maxspeed):\n",
    "        self.color=color\n",
    "        self.__maxspeed=maxspeed#private member cannot access outside the class\n",
    "        \n",
    "    def getmaxspeed(self):\n",
    "        return self.__maxspeed\n",
    "    def setmaxspeed(self,maxspeed):\n",
    "        self.__maxspeed=maxspeed\n",
    "        "
   ]
  },
  {
   "cell_type": "code",
   "execution_count": 10,
   "id": "18a283e4",
   "metadata": {},
   "outputs": [],
   "source": [
    "class car(vehicle):\n",
    "    def __init__(self,color,maxspeed,nogear,isconv):# it inherites but not have access to it and you need to go through vehicle to access that\n",
    "        super().__init__(color,maxspeed) #super used to access the init from base class\n",
    "        self.nogear=nogear\n",
    "        self.isconv=isconv\n",
    "    def printcar(self):\n",
    "        print(\"colour is\",self.color )\n",
    "        print(\"maxspeed is\",self.getmaxspeed() )\n",
    "        print(\"nogear is\",self.nogear )\n",
    "        print(\"isconv is\",self.isconv )"
   ]
  },
  {
   "cell_type": "code",
   "execution_count": 11,
   "id": "616db22c",
   "metadata": {},
   "outputs": [],
   "source": [
    "c=car(\"red\",15,3,False)"
   ]
  },
  {
   "cell_type": "code",
   "execution_count": 12,
   "id": "f1153411",
   "metadata": {},
   "outputs": [
    {
     "name": "stdout",
     "output_type": "stream",
     "text": [
      "colour is red\n",
      "maxspeed is 15\n",
      "nogear is 3\n",
      "isconv is False\n"
     ]
    }
   ],
   "source": [
    "c.printcar()"
   ]
  },
  {
   "cell_type": "markdown",
   "id": "865df8e0",
   "metadata": {},
   "source": [
    "### Inheritance Continue"
   ]
  },
  {
   "cell_type": "code",
   "execution_count": 14,
   "id": "5e6d3860",
   "metadata": {},
   "outputs": [],
   "source": [
    "class vehicle:\n",
    "    def __init__(self,color,maxspeed):\n",
    "        self.color=color\n",
    "        self.__maxspeed=maxspeed#private member cannot access outside the class\n",
    "        \n",
    "    def getmaxspeed(self):\n",
    "        return self.__maxspeed\n",
    "    def setmaxspeed(self,maxspeed):\n",
    "        self.__maxspeed=maxspeed\n",
    "    def print_vehi(self):\n",
    "        print(self.color)\n",
    "        print(self.__maxspeed)\n",
    "class car(vehicle):\n",
    "    def __init__(self,color,maxspeed,nogear,isconv):\n",
    "        super().__init__(color,maxspeed)# methods and \n",
    "        self.nogear=nogear\n",
    "        self.isconv=isconv\n",
    "    def printcar(self):\n",
    "        super().print_vehi()\n",
    "        #self.print()#you can use\n",
    "        print(\"nogear is\",self.nogear )\n",
    "        print(\"isconv is\",self.isconv )\n",
    "        "
   ]
  },
  {
   "cell_type": "code",
   "execution_count": 15,
   "id": "a8ee834e",
   "metadata": {},
   "outputs": [],
   "source": [
    "c=car(\"yellow\",15,3,False)"
   ]
  },
  {
   "cell_type": "code",
   "execution_count": 16,
   "id": "6bc7a4de",
   "metadata": {},
   "outputs": [
    {
     "name": "stdout",
     "output_type": "stream",
     "text": [
      "yellow\n",
      "15\n",
      "nogear is 3\n",
      "isconv is False\n"
     ]
    }
   ],
   "source": [
    "c.printcar()"
   ]
  },
  {
   "cell_type": "markdown",
   "id": "f694b901",
   "metadata": {},
   "source": [
    "### Method Overridding Polymorphism"
   ]
  },
  {
   "cell_type": "code",
   "execution_count": 43,
   "id": "b1721bb9",
   "metadata": {},
   "outputs": [],
   "source": [
    "class vehicle:\n",
    "    def __init__(self,color,maxspeed):\n",
    "        self.color=color\n",
    "        self.__maxspeed=maxspeed#private member cannot access outside the class\n",
    "        \n",
    "    def getmaxspeed(self):\n",
    "        return self.__maxspeed\n",
    "    def setmaxspeed(self,maxspeed):\n",
    "        self.__maxspeed=maxspeed\n",
    "    def print1(self):\n",
    "        print(self.color)\n",
    "        print(self.__maxspeed)\n",
    "class car(vehicle):\n",
    "    def __init__(self,color,maxspeed,nogear,isconv):\n",
    "        super().__init__(color,maxspeed)# methods and \n",
    "        self.nogear=nogear\n",
    "        self.isconv=isconv\n",
    "    def print1(self):##calling this\n",
    "        #self().print1()\n",
    "        #self.print()#you can use\n",
    "        print(\"nogear is\",self.nogear )\n",
    "        print(\"isconv is\",self.isconv )"
   ]
  },
  {
   "cell_type": "code",
   "execution_count": 44,
   "id": "b3684b09",
   "metadata": {},
   "outputs": [],
   "source": [
    "k=car(\"yellow\",15,3,False)"
   ]
  },
  {
   "cell_type": "code",
   "execution_count": 45,
   "id": "a489fc3e",
   "metadata": {},
   "outputs": [
    {
     "name": "stdout",
     "output_type": "stream",
     "text": [
      "nogear is 3\n",
      "isconv is False\n"
     ]
    }
   ],
   "source": [
    "k.print1()"
   ]
  },
  {
   "cell_type": "code",
   "execution_count": 46,
   "id": "7bcb37c7",
   "metadata": {},
   "outputs": [],
   "source": [
    "class vehicle:\n",
    "    def __init__(self,color,maxspeed):\n",
    "        self.color=color\n",
    "        self.__maxspeed=maxspeed#private member cannot access outside the class\n",
    "        \n",
    "    def getmaxspeed(self):\n",
    "        return self.__maxspeed\n",
    "    def setmaxspeed(self,maxspeed):\n",
    "        self.__maxspeed=maxspeed\n",
    "    def print1(self): ##calling this print1 (order is First itself , it will check in parent class)\n",
    "        print(self.color)\n",
    "        print(self.__maxspeed)\n",
    "class car(vehicle):\n",
    "    def __init__(self,color,maxspeed,nogear,isconv):\n",
    "        super().__init__(color,maxspeed)# methods and \n",
    "        self.nogear=nogear\n",
    "        self.isconv=isconv\n",
    "   # def print1(self):##calling this\n",
    "        #self().print1()\n",
    "        #self.print()#you can use\n",
    "      #  print(\"nogear is\",self.nogear )\n",
    "      #  print(\"isconv is\",self.isconv )"
   ]
  },
  {
   "cell_type": "code",
   "execution_count": 47,
   "id": "f3acef34",
   "metadata": {},
   "outputs": [],
   "source": [
    "k1=car(\"yellow\",15,3,False)"
   ]
  },
  {
   "cell_type": "code",
   "execution_count": 48,
   "id": "c6ef0d14",
   "metadata": {},
   "outputs": [
    {
     "name": "stdout",
     "output_type": "stream",
     "text": [
      "yellow\n",
      "15\n"
     ]
    }
   ],
   "source": [
    "k1.print1()"
   ]
  },
  {
   "cell_type": "markdown",
   "id": "fe65a91b",
   "metadata": {},
   "source": [
    "### Protected Members"
   ]
  },
  {
   "cell_type": "code",
   "execution_count": 52,
   "id": "d6c8d7a5",
   "metadata": {},
   "outputs": [],
   "source": [
    "class vehicle:\n",
    "    def __init__(self,color,maxspeed):\n",
    "        self.color=color\n",
    "        self._maxspeed=maxspeed#protected member can access outside the class\n",
    "        \n",
    "    def getmaxspeed(self):\n",
    "        return self._maxspeed\n",
    "    def setmaxspeed(self,maxspeed):\n",
    "        self._maxspeed=maxspeed\n",
    "    def print1(self): ##calling this print1 (order is First itself , it will check in parent class)\n",
    "        print(self.color)\n",
    "        print(self._maxspeed)\n",
    "class car(vehicle):\n",
    "    def __init__(self,color,maxspeed,nogear,isconv):\n",
    "        super().__init__(color,maxspeed)# methods and \n",
    "        self.nogear=nogear\n",
    "        self.isconv=isconv\n",
    "    def print1(self):##calling this\n",
    "        print(self.color)\n",
    "        print(self._maxspeed)\n",
    "        print(\"nogear is\",self.nogear )\n",
    "        print(\"isconv is\",self.isconv )"
   ]
  },
  {
   "cell_type": "code",
   "execution_count": 53,
   "id": "37e78d30",
   "metadata": {},
   "outputs": [],
   "source": [
    "k1=vehicle(\"yellow\",15)"
   ]
  },
  {
   "cell_type": "code",
   "execution_count": 54,
   "id": "d6e2d7d3",
   "metadata": {},
   "outputs": [
    {
     "name": "stdout",
     "output_type": "stream",
     "text": [
      "yellow\n",
      "15\n"
     ]
    }
   ],
   "source": [
    "k1.print1()"
   ]
  },
  {
   "cell_type": "code",
   "execution_count": 55,
   "id": "48481adc",
   "metadata": {},
   "outputs": [],
   "source": [
    "k1._maxspeed=90 #can change outside the class"
   ]
  },
  {
   "cell_type": "code",
   "execution_count": 56,
   "id": "242a1855",
   "metadata": {},
   "outputs": [
    {
     "name": "stdout",
     "output_type": "stream",
     "text": [
      "yellow\n",
      "90\n"
     ]
    }
   ],
   "source": [
    "k1.print1()"
   ]
  },
  {
   "cell_type": "markdown",
   "id": "cedbe679",
   "metadata": {},
   "source": [
    "### Object class"
   ]
  },
  {
   "cell_type": "code",
   "execution_count": 59,
   "id": "62a878ff",
   "metadata": {},
   "outputs": [],
   "source": [
    "class circle(object):\n",
    "    def __init__(self,radius):\n",
    "        self.__radius=radius\n",
    "    "
   ]
  },
  {
   "cell_type": "code",
   "execution_count": 60,
   "id": "0fe9f771",
   "metadata": {},
   "outputs": [],
   "source": [
    "l=circle(5)"
   ]
  },
  {
   "cell_type": "code",
   "execution_count": 61,
   "id": "e42b44c2",
   "metadata": {},
   "outputs": [
    {
     "name": "stdout",
     "output_type": "stream",
     "text": [
      "<__main__.circle object at 0x000002D5F6A26A30>\n"
     ]
    }
   ],
   "source": [
    "print(l)"
   ]
  },
  {
   "cell_type": "code",
   "execution_count": 62,
   "id": "c3fbcb58",
   "metadata": {},
   "outputs": [],
   "source": [
    "class circle(object):\n",
    "    def __init__(self,radius):\n",
    "        self.__radius=radius\n",
    "    def __str__(self):\n",
    "        return \"This is Circle class and it will take radius as an argument\""
   ]
  },
  {
   "cell_type": "code",
   "execution_count": 63,
   "id": "a3ac10e3",
   "metadata": {},
   "outputs": [],
   "source": [
    "l=circle(5)"
   ]
  },
  {
   "cell_type": "code",
   "execution_count": 64,
   "id": "8c42b7f6",
   "metadata": {},
   "outputs": [
    {
     "name": "stdout",
     "output_type": "stream",
     "text": [
      "This is Circle class and it will take radius as an argument\n"
     ]
    }
   ],
   "source": [
    "print(l)"
   ]
  },
  {
   "cell_type": "markdown",
   "id": "6ce47ce5",
   "metadata": {},
   "source": [
    "### Multiple Inheritance"
   ]
  },
  {
   "cell_type": "code",
   "execution_count": 65,
   "id": "83d363fc",
   "metadata": {},
   "outputs": [],
   "source": [
    "# multiple base classes"
   ]
  },
  {
   "cell_type": "code",
   "execution_count": 66,
   "id": "a911c1ef",
   "metadata": {},
   "outputs": [],
   "source": [
    "class Mother:\n",
    "    def print(self):\n",
    "        return \"Print of Mother called\""
   ]
  },
  {
   "cell_type": "code",
   "execution_count": 67,
   "id": "2ef75a77",
   "metadata": {},
   "outputs": [],
   "source": [
    "class Father:\n",
    "    def print(self):\n",
    "        return \"Print of Father called\""
   ]
  },
  {
   "cell_type": "code",
   "execution_count": 72,
   "id": "d552283a",
   "metadata": {},
   "outputs": [],
   "source": [
    "class child(Father,Mother):\n",
    "    def __init__(self,name):\n",
    "        self.name=name\n",
    "    def printchild(self):\n",
    "        print(\"name of child is:\",self.name)\n"
   ]
  },
  {
   "cell_type": "code",
   "execution_count": 73,
   "id": "34cdf84b",
   "metadata": {},
   "outputs": [],
   "source": [
    "c=child(\"KEshav\")"
   ]
  },
  {
   "cell_type": "code",
   "execution_count": 74,
   "id": "696c6eb2",
   "metadata": {},
   "outputs": [
    {
     "name": "stdout",
     "output_type": "stream",
     "text": [
      "name of child is: KEshav\n"
     ]
    }
   ],
   "source": [
    "c.printchild()"
   ]
  },
  {
   "cell_type": "code",
   "execution_count": 75,
   "id": "78ec3c1f",
   "metadata": {},
   "outputs": [
    {
     "data": {
      "text/plain": [
       "'Print of Father called'"
      ]
     },
     "execution_count": 75,
     "metadata": {},
     "output_type": "execute_result"
    }
   ],
   "source": [
    "c.print()#order is father given"
   ]
  },
  {
   "cell_type": "code",
   "execution_count": 77,
   "id": "6e5e4ef9",
   "metadata": {},
   "outputs": [],
   "source": [
    "class Mother:\n",
    "    def __init__(self):\n",
    "        self.name=\"Manju\"\n",
    "    def print(self):\n",
    "        return \"Print of Mother called\"\n",
    "class Father:\n",
    "    def __init__(self):\n",
    "        self.name=\"Ajay\"\n",
    "    def print(self):\n",
    "        return \"Print of Father called\"\n",
    "class child(Father,Mother):\n",
    "    def __init__(self):\n",
    "        super().__init__()##depend on order again Father is first so its init called\n",
    "    def printchild(self):\n",
    "        print(\"name of child is:\",self.name)"
   ]
  },
  {
   "cell_type": "code",
   "execution_count": 79,
   "id": "d43f9ff4",
   "metadata": {},
   "outputs": [],
   "source": [
    "c=child()"
   ]
  },
  {
   "cell_type": "code",
   "execution_count": 80,
   "id": "041c61d4",
   "metadata": {},
   "outputs": [
    {
     "name": "stdout",
     "output_type": "stream",
     "text": [
      "name of child is: Ajay\n"
     ]
    }
   ],
   "source": [
    "c.printchild()"
   ]
  },
  {
   "cell_type": "code",
   "execution_count": null,
   "id": "a6f4a4bf",
   "metadata": {},
   "outputs": [],
   "source": []
  }
 ],
 "metadata": {
  "kernelspec": {
   "display_name": "Python 3 (ipykernel)",
   "language": "python",
   "name": "python3"
  },
  "language_info": {
   "codemirror_mode": {
    "name": "ipython",
    "version": 3
   },
   "file_extension": ".py",
   "mimetype": "text/x-python",
   "name": "python",
   "nbconvert_exporter": "python",
   "pygments_lexer": "ipython3",
   "version": "3.8.12"
  }
 },
 "nbformat": 4,
 "nbformat_minor": 5
}
